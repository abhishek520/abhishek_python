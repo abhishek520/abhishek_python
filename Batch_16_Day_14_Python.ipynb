{
 "cells": [
  {
   "cell_type": "code",
   "execution_count": 3,
   "metadata": {},
   "outputs": [],
   "source": [
    "def get_formatted_name(first_name,last_name):\n",
    "    \n",
    "    full_name  = f\"{first_name} {last_name}\"\n",
    "    return full_name.title()\n"
   ]
  },
  {
   "cell_type": "code",
   "execution_count": 4,
   "metadata": {},
   "outputs": [
    {
     "name": "stdout",
     "output_type": "stream",
     "text": [
      "Abhishek Maurya\n"
     ]
    }
   ],
   "source": [
    "student = get_formatted_name('Abhishek', 'Maurya')\n",
    "print(student)"
   ]
  },
  {
   "cell_type": "code",
   "execution_count": 5,
   "metadata": {},
   "outputs": [
    {
     "data": {
      "text/plain": [
       "'Maurya Abhishek'"
      ]
     },
     "execution_count": 5,
     "metadata": {},
     "output_type": "execute_result"
    }
   ],
   "source": [
    "get_formatted_name('Maurya','Abhishek')"
   ]
  },
  {
   "cell_type": "code",
   "execution_count": 6,
   "metadata": {},
   "outputs": [
    {
     "name": "stdout",
     "output_type": "stream",
     "text": [
      "Money Heist\n"
     ]
    }
   ],
   "source": [
    "student_2 = get_formatted_name('Money','Heist')\n",
    "print(student_2)"
   ]
  },
  {
   "cell_type": "code",
   "execution_count": 9,
   "metadata": {},
   "outputs": [],
   "source": [
    "def define_person(first_name,Last_name):\n",
    "    \n",
    "    person = {'first ':first_name,'last ': Last_name}\n",
    "    return person"
   ]
  },
  {
   "cell_type": "code",
   "execution_count": 10,
   "metadata": {},
   "outputs": [
    {
     "name": "stdout",
     "output_type": "stream",
     "text": [
      "{'first ': 'Breaking', 'last ': 'Bad'}\n"
     ]
    }
   ],
   "source": [
    "student3 = define_person('Breaking','Bad')\n",
    "print(student3)"
   ]
  },
  {
   "cell_type": "code",
   "execution_count": 12,
   "metadata": {},
   "outputs": [],
   "source": [
    "def define_person(first_name,Last_name,age,location,pincode):\n",
    "    \n",
    "    person = {'first ':first_name,'last ': Last_name,'person_age':age,'Current location':location,'pincode':pincode}\n",
    "    return person\n",
    "    "
   ]
  },
  {
   "cell_type": "code",
   "execution_count": 13,
   "metadata": {},
   "outputs": [
    {
     "name": "stdout",
     "output_type": "stream",
     "text": [
      "{'first ': 'Abhishek', 'last ': 'Maurya', 'person_age': '26', 'Current location': 'Delhi', 'pincode': '110018'}\n"
     ]
    }
   ],
   "source": [
    "student4 = define_person('Abhishek','Maurya','26','Delhi','110018')\n",
    "print(student4)"
   ]
  },
  {
   "cell_type": "code",
   "execution_count": 19,
   "metadata": {},
   "outputs": [],
   "source": [
    "student_list = ['Ram','shyam','Abhishek','Anil','Raghav','Harry','Rahul']\n",
    "\n",
    "def greet_students(names):\n",
    "    \n",
    "    for x in names:\n",
    "        message = f\"Hello all Happy Quarantine Days {x.title()}\\n\"\n",
    "        print(message)"
   ]
  },
  {
   "cell_type": "code",
   "execution_count": 20,
   "metadata": {},
   "outputs": [
    {
     "name": "stdout",
     "output_type": "stream",
     "text": [
      "Hello all Happy Quarantine Days Ram\n",
      "\n",
      "Hello all Happy Quarantine Days Shyam\n",
      "\n",
      "Hello all Happy Quarantine Days Abhishek\n",
      "\n",
      "Hello all Happy Quarantine Days Anil\n",
      "\n",
      "Hello all Happy Quarantine Days Raghav\n",
      "\n",
      "Hello all Happy Quarantine Days Harry\n",
      "\n",
      "Hello all Happy Quarantine Days Rahul\n",
      "\n"
     ]
    }
   ],
   "source": [
    "greet_students(student_list)"
   ]
  },
  {
   "cell_type": "code",
   "execution_count": 31,
   "metadata": {},
   "outputs": [],
   "source": [
    "cars = ['bmw','audi','ferrari','porsche','mercedez']\n",
    "\n",
    "def car_function(car_name):\n",
    "\n",
    "    for car in car_name:\n",
    "        message = f\"Hello I have {car.title()} and i bought it from my own Money \\n \"\n",
    "        print(message)\n",
    "    "
   ]
  },
  {
   "cell_type": "code",
   "execution_count": 32,
   "metadata": {},
   "outputs": [
    {
     "name": "stdout",
     "output_type": "stream",
     "text": [
      "Hello I have Bmw and i bought it from my own Money \n",
      " \n",
      "Hello I have Audi and i bought it from my own Money \n",
      " \n",
      "Hello I have Ferrari and i bought it from my own Money \n",
      " \n",
      "Hello I have Porsche and i bought it from my own Money \n",
      " \n",
      "Hello I have Mercedez and i bought it from my own Money \n",
      " \n"
     ]
    }
   ],
   "source": [
    "car_function(cars)"
   ]
  },
  {
   "cell_type": "code",
   "execution_count": 33,
   "metadata": {},
   "outputs": [],
   "source": [
    "def Movie_name(Movie_name,Movie_Actor):\n",
    "    \n",
    "    movie = {'Movie':Movie_name,'Actor':Movie_Actor}\n",
    "    return movie"
   ]
  },
  {
   "cell_type": "code",
   "execution_count": 34,
   "metadata": {},
   "outputs": [
    {
     "data": {
      "text/plain": [
       "{'Movie': 'Pk', 'Actor': 'Aamir khan'}"
      ]
     },
     "execution_count": 34,
     "metadata": {},
     "output_type": "execute_result"
    }
   ],
   "source": [
    "Movie_name('Pk','Aamir khan')"
   ]
  },
  {
   "cell_type": "code",
   "execution_count": null,
   "metadata": {},
   "outputs": [],
   "source": []
  }
 ],
 "metadata": {
  "kernelspec": {
   "display_name": "Python 3",
   "language": "python",
   "name": "python3"
  },
  "language_info": {
   "codemirror_mode": {
    "name": "ipython",
    "version": 3
   },
   "file_extension": ".py",
   "mimetype": "text/x-python",
   "name": "python",
   "nbconvert_exporter": "python",
   "pygments_lexer": "ipython3",
   "version": "3.7.6"
  }
 },
 "nbformat": 4,
 "nbformat_minor": 4
}
