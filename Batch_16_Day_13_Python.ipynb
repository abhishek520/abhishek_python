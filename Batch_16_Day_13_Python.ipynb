{
 "cells": [
  {
   "cell_type": "code",
   "execution_count": 9,
   "metadata": {},
   "outputs": [],
   "source": [
    "def describe_pet(animaltype,animalname):\n",
    "    print(f\"I have a {animaltype}\")\n",
    "    print(f\"\\n my {animaltype} name is {animalname}\")"
   ]
  },
  {
   "cell_type": "code",
   "execution_count": 10,
   "metadata": {},
   "outputs": [
    {
     "name": "stdout",
     "output_type": "stream",
     "text": [
      "I have a dog\n",
      "\n",
      " my dog name is max\n"
     ]
    }
   ],
   "source": [
    "describe_pet('dog','max')"
   ]
  },
  {
   "cell_type": "code",
   "execution_count": 17,
   "metadata": {},
   "outputs": [],
   "source": [
    "def describe_essential(cartype,carname):\n",
    "    print(f\"I have a {cartype} car\")\n",
    "    print(f\"\\n my  {cartype} car name is {carname}\")"
   ]
  },
  {
   "cell_type": "code",
   "execution_count": 18,
   "metadata": {},
   "outputs": [
    {
     "name": "stdout",
     "output_type": "stream",
     "text": [
      "I have a Sedan car\n",
      "\n",
      " my  Sedan car name is bmw\n"
     ]
    }
   ],
   "source": [
    "describe_essential('Sedan', 'bmw')"
   ]
  },
  {
   "cell_type": "code",
   "execution_count": 19,
   "metadata": {},
   "outputs": [
    {
     "name": "stdout",
     "output_type": "stream",
     "text": [
      "I have a hatchback car\n",
      "\n",
      " my  hatchback car name is swift\n"
     ]
    }
   ],
   "source": [
    "describe_essential('hatchback','swift')"
   ]
  },
  {
   "cell_type": "code",
   "execution_count": 20,
   "metadata": {},
   "outputs": [
    {
     "name": "stdout",
     "output_type": "stream",
     "text": [
      "I have a SUV car\n",
      "\n",
      " my  SUV car name is Fortuner\n"
     ]
    }
   ],
   "source": [
    "describe_essential(cartype = 'SUV',carname = 'Fortuner')"
   ]
  },
  {
   "cell_type": "code",
   "execution_count": 23,
   "metadata": {},
   "outputs": [],
   "source": [
    "def describe_food(foodtype,foodname):\n",
    "    print(f\"I Love to have {foodtype} Food\")\n",
    "    print(f\"\\n My favourite  {foodtype} Food is {foodname}\")"
   ]
  },
  {
   "cell_type": "code",
   "execution_count": 24,
   "metadata": {},
   "outputs": [
    {
     "name": "stdout",
     "output_type": "stream",
     "text": [
      "I Love to have Junk Food\n",
      "\n",
      " My favourite  Junk Food is Pizza\n"
     ]
    }
   ],
   "source": [
    "describe_food('Junk','Pizza')"
   ]
  },
  {
   "cell_type": "code",
   "execution_count": 26,
   "metadata": {},
   "outputs": [
    {
     "name": "stdout",
     "output_type": "stream",
     "text": [
      "I Love to have Healthy Food\n",
      "\n",
      " My favourite  Healthy Food is Salad\n"
     ]
    }
   ],
   "source": [
    "describe_food(foodname = 'Salad',foodtype = 'Healthy')"
   ]
  },
  {
   "cell_type": "code",
   "execution_count": 27,
   "metadata": {},
   "outputs": [],
   "source": [
    "def describe_food(foodname,foodtype = 'Chinese'):\n",
    "    print(f\"I Love to have {foodtype} Food\")\n",
    "    print(f\"\\n My favourite  {foodtype} Food is {foodname}\")"
   ]
  },
  {
   "cell_type": "code",
   "execution_count": 29,
   "metadata": {},
   "outputs": [
    {
     "name": "stdout",
     "output_type": "stream",
     "text": [
      "I Love to have Chinese Food\n",
      "\n",
      " My favourite  Chinese Food is Noodles\n"
     ]
    }
   ],
   "source": [
    "describe_food('Noodles')"
   ]
  },
  {
   "cell_type": "code",
   "execution_count": null,
   "metadata": {},
   "outputs": [],
   "source": []
  }
 ],
 "metadata": {
  "kernelspec": {
   "display_name": "Python 3",
   "language": "python",
   "name": "python3"
  },
  "language_info": {
   "codemirror_mode": {
    "name": "ipython",
    "version": 3
   },
   "file_extension": ".py",
   "mimetype": "text/x-python",
   "name": "python",
   "nbconvert_exporter": "python",
   "pygments_lexer": "ipython3",
   "version": "3.7.6"
  }
 },
 "nbformat": 4,
 "nbformat_minor": 4
}
