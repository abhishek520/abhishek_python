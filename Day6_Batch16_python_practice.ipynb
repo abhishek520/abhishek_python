{
 "cells": [
  {
   "cell_type": "code",
   "execution_count": 1,
   "metadata": {},
   "outputs": [
    {
     "name": "stdout",
     "output_type": "stream",
     "text": [
      "['abhishek', 'vivek', 'ravi', 'abhilash', 'ram', 'rahul']\n"
     ]
    }
   ],
   "source": [
    "students=['abhishek','vivek','ravi','abhilash','ram','rahul']\n",
    "print(students)"
   ]
  },
  {
   "cell_type": "code",
   "execution_count": 5,
   "metadata": {},
   "outputs": [
    {
     "name": "stdout",
     "output_type": "stream",
     "text": [
      "Abhilash\n"
     ]
    }
   ],
   "source": [
    "print(students[3].title())"
   ]
  },
  {
   "cell_type": "code",
   "execution_count": 8,
   "metadata": {},
   "outputs": [
    {
     "name": "stdout",
     "output_type": "stream",
     "text": [
      "abhishek\n",
      "vivek\n",
      "ravi\n",
      "abhilash\n",
      "ram\n",
      "rahul\n"
     ]
    }
   ],
   "source": [
    "for student in students:\n",
    "    print(student)"
   ]
  },
  {
   "cell_type": "code",
   "execution_count": 9,
   "metadata": {},
   "outputs": [
    {
     "name": "stdout",
     "output_type": "stream",
     "text": [
      "abhishek\n",
      "vivek\n",
      "ravi\n",
      "abhilash\n",
      "ram\n",
      "rahul\n"
     ]
    }
   ],
   "source": [
    "for x in students:\n",
    "    print(x)"
   ]
  },
  {
   "cell_type": "code",
   "execution_count": 12,
   "metadata": {},
   "outputs": [
    {
     "name": "stdout",
     "output_type": "stream",
     "text": [
      "hello  how are you  abhishek\n",
      "hello  how are you  vivek\n",
      "hello  how are you  ravi\n",
      "hello  how are you  abhilash\n",
      "hello  how are you  ram\n",
      "hello  how are you  rahul\n"
     ]
    }
   ],
   "source": [
    "for z in students:\n",
    "    print(f\"hello  how are you  {z}\")"
   ]
  },
  {
   "cell_type": "code",
   "execution_count": 14,
   "metadata": {},
   "outputs": [
    {
     "name": "stdout",
     "output_type": "stream",
     "text": [
      "hello  how are you  abhishek\n",
      "whrere are you from abhishek\n",
      "\n",
      "hello  how are you  vivek\n",
      "whrere are you from vivek\n",
      "\n",
      "hello  how are you  ravi\n",
      "whrere are you from ravi\n",
      "\n",
      "hello  how are you  abhilash\n",
      "whrere are you from abhilash\n",
      "\n",
      "hello  how are you  ram\n",
      "whrere are you from ram\n",
      "\n",
      "hello  how are you  rahul\n",
      "whrere are you from rahul\n",
      "\n"
     ]
    }
   ],
   "source": [
    "for student in students:\n",
    "    print(f\"hello  how are you  {student}\")\n",
    "    print(f\"whrere are you from {student}\\n\")"
   ]
  },
  {
   "cell_type": "code",
   "execution_count": 15,
   "metadata": {},
   "outputs": [
    {
     "name": "stdout",
     "output_type": "stream",
     "text": [
      "hello  how are you  abhishek\n",
      "whrere are you from abhishek\n",
      "\n",
      "hello  how are you  vivek\n",
      "whrere are you from vivek\n",
      "\n",
      "hello  how are you  ravi\n",
      "whrere are you from ravi\n",
      "\n",
      "hello  how are you  abhilash\n",
      "whrere are you from abhilash\n",
      "\n",
      "hello  how are you  ram\n",
      "whrere are you from ram\n",
      "\n",
      "hello  how are you  rahul\n",
      "whrere are you from rahul\n",
      "\n",
      "thanks we will meet again\n"
     ]
    }
   ],
   "source": [
    "for student in students:\n",
    "    print(f\"hello  how are you  {student}\")\n",
    "    print(f\"whrere are you from {student}\\n\")\n",
    "print(f\"thanks we will meet again\")    "
   ]
  },
  {
   "cell_type": "code",
   "execution_count": 18,
   "metadata": {},
   "outputs": [
    {
     "name": "stdout",
     "output_type": "stream",
     "text": [
      "1\n",
      "2\n",
      "3\n",
      "4\n",
      "5\n",
      "6\n",
      "7\n",
      "8\n",
      "9\n",
      "10\n"
     ]
    }
   ],
   "source": [
    "for value in range (1,11):\n",
    "    print(value)"
   ]
  },
  {
   "cell_type": "code",
   "execution_count": 19,
   "metadata": {},
   "outputs": [
    {
     "name": "stdout",
     "output_type": "stream",
     "text": [
      "[1, 2, 3, 4, 5, 6, 7, 8, 9, 10]\n"
     ]
    }
   ],
   "source": [
    "numbers=list(range(1,11))\n",
    "print(numbers)"
   ]
  },
  {
   "cell_type": "code",
   "execution_count": 21,
   "metadata": {},
   "outputs": [
    {
     "name": "stdout",
     "output_type": "stream",
     "text": [
      "[2, 4, 6, 8]\n"
     ]
    }
   ],
   "source": [
    "even_num=list(range(2,10,2))\n",
    "print(even_num)"
   ]
  },
  {
   "cell_type": "code",
   "execution_count": null,
   "metadata": {},
   "outputs": [],
   "source": []
  }
 ],
 "metadata": {
  "kernelspec": {
   "display_name": "Python 3",
   "language": "python",
   "name": "python3"
  },
  "language_info": {
   "codemirror_mode": {
    "name": "ipython",
    "version": 3
   },
   "file_extension": ".py",
   "mimetype": "text/x-python",
   "name": "python",
   "nbconvert_exporter": "python",
   "pygments_lexer": "ipython3",
   "version": "3.7.6"
  }
 },
 "nbformat": 4,
 "nbformat_minor": 4
}
