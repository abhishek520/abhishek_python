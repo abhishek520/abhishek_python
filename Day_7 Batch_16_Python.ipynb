{
 "cells": [
  {
   "cell_type": "code",
   "execution_count": 1,
   "metadata": {},
   "outputs": [
    {
     "name": "stdout",
     "output_type": "stream",
     "text": [
      "How old are you: 15\n"
     ]
    }
   ],
   "source": [
    "Age = input('How old are you:')\n",
    "\n"
   ]
  },
  {
   "cell_type": "code",
   "execution_count": 4,
   "metadata": {},
   "outputs": [
    {
     "name": "stdout",
     "output_type": "stream",
     "text": [
      "\n",
      " yor are eligible\n"
     ]
    }
   ],
   "source": [
    "age = 26\n",
    "Age = int(age)\n",
    "if age>=18:\n",
    "    print(\"\\n yor are eligible\")\n",
    "else:\n",
    "    print(\"\\n try next year\")"
   ]
  },
  {
   "cell_type": "code",
   "execution_count": 5,
   "metadata": {},
   "outputs": [
    {
     "name": "stdout",
     "output_type": "stream",
     "text": [
      "\n",
      " try next year\n"
     ]
    }
   ],
   "source": [
    "age = 15\n",
    "Age = int(age)\n",
    "if age>=18:\n",
    "    print(\"\\n yor are eligible\")\n",
    "else:\n",
    "    print(\"\\n try next year\")"
   ]
  }
 ],
 "metadata": {
  "kernelspec": {
   "display_name": "Python 3",
   "language": "python",
   "name": "python3"
  },
  "language_info": {
   "codemirror_mode": {
    "name": "ipython",
    "version": 3
   },
   "file_extension": ".py",
   "mimetype": "text/x-python",
   "name": "python",
   "nbconvert_exporter": "python",
   "pygments_lexer": "ipython3",
   "version": "3.7.6"
  }
 },
 "nbformat": 4,
 "nbformat_minor": 4
}
